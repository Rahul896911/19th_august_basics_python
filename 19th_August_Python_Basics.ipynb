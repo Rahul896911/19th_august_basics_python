{
  "nbformat": 4,
  "nbformat_minor": 0,
  "metadata": {
    "colab": {
      "provenance": [],
      "authorship_tag": "ABX9TyOFQedu5xquXqSVhWjRmUKo",
      "include_colab_link": true
    },
    "kernelspec": {
      "name": "python3",
      "display_name": "Python 3"
    },
    "language_info": {
      "name": "python"
    }
  },
  "cells": [
    {
      "cell_type": "markdown",
      "metadata": {
        "id": "view-in-github",
        "colab_type": "text"
      },
      "source": [
        "<a href=\"https://colab.research.google.com/github/Rahul896911/19th_august_basics_python/blob/main/19th_August_Python_Basics.ipynb\" target=\"_parent\"><img src=\"https://colab.research.google.com/assets/colab-badge.svg\" alt=\"Open In Colab\"/></a>"
      ]
    },
    {
      "cell_type": "markdown",
      "source": [
        "Topic-python basics variables\n",
        "\n",
        "\n"
      ],
      "metadata": {
        "id": "XM15JJvlAhoe"
      }
    },
    {
      "cell_type": "code",
      "execution_count": null,
      "metadata": {
        "id": "OIEzOAJG-c2H"
      },
      "outputs": [],
      "source": [
        "#Q1\n",
        "\n",
        "#using arithmetic operators\n",
        "x=10\n",
        "y=20\n",
        "\n",
        "x= x+y #x becomes 30\n",
        "y=x-y #y becomes 10\n",
        "x=x-y #x becomes 20\n"
      ]
    },
    {
      "cell_type": "code",
      "source": [
        "\n",
        "#Q2\n",
        "\n",
        "#Ask the user to enter the length and width of rectangle\n",
        "length=float(input(\"Enter the length of the rectangle: \"))\n",
        "width=float(input(\"Enter the width of the rectangle: \"))\n",
        "\n",
        "#calculate the area of the rectangle using the formula area =length*width\n",
        "area =length * width\n",
        "\n",
        "\n",
        "#display the area of the rectangle\n",
        "print(\"The areaof the rectangle is\", area)\n"
      ],
      "metadata": {
        "colab": {
          "base_uri": "https://localhost:8080/"
        },
        "id": "M6ImbuNV_2Mo",
        "outputId": "84288d34-2fa7-412b-f3f9-6ac56ac9071a"
      },
      "execution_count": null,
      "outputs": [
        {
          "output_type": "stream",
          "name": "stdout",
          "text": [
            "Enter the length of the rectangle: 2676\n",
            "Enter the width of the rectangle: 64778\n",
            "The areaof the rectangle is 173345928.0\n"
          ]
        }
      ]
    },
    {
      "cell_type": "code",
      "source": [
        "#Q3\n",
        "\n",
        "#Ask the user to enter the temperature in celsius\n",
        "celsius=float(input(\"Enter the temperature in celcius: \"))\n",
        "\n",
        "#convert the temperature to fahrenheit using the formula F=C * 1.8+32\n",
        "fahrenheit = celsius *1.8 + 32\n",
        "\n",
        "#display the result in a formatted string\n",
        "print(f\"{celsius}degree celsius is equivalent to{fahrenheit} degrees Fahrenhiet\")"
      ],
      "metadata": {
        "colab": {
          "base_uri": "https://localhost:8080/"
        },
        "id": "jqc-7_8oACl9",
        "outputId": "beb03f6c-3530-4166-c14a-811ff95fa180"
      },
      "execution_count": null,
      "outputs": [
        {
          "output_type": "stream",
          "name": "stdout",
          "text": [
            "Enter the temperature in celcius: 36\n",
            "36.0degree celsius is equivalent to96.8 degrees Fahrenhiet\n"
          ]
        }
      ]
    },
    {
      "cell_type": "code",
      "source": [],
      "metadata": {
        "id": "oxDDdfJjPcxF"
      },
      "execution_count": null,
      "outputs": []
    },
    {
      "cell_type": "markdown",
      "source": [
        "TOPIC: String Based Questions\n"
      ],
      "metadata": {
        "id": "HZbBk1QYEGGm"
      }
    },
    {
      "cell_type": "code",
      "source": [
        "#Q1\n",
        "#Ask the user to enter a string\n",
        "\n",
        "string=input(\"Enter a string: \")\n",
        "\n",
        "#using the built -in function len to get the length of the string\n",
        "length = len(string)\n",
        "\n",
        "#print the length of the string\n",
        "print(\"The length of the string is\", length)"
      ],
      "metadata": {
        "colab": {
          "base_uri": "https://localhost:8080/"
        },
        "id": "eze02EHAEMpO",
        "outputId": "b3d39fca-98c1-4982-d971-210cd4458a4a"
      },
      "execution_count": 2,
      "outputs": [
        {
          "output_type": "stream",
          "name": "stdout",
          "text": [
            "Enter a string: rahul\n",
            "The length of the string is 5\n"
          ]
        }
      ]
    },
    {
      "cell_type": "code",
      "source": [
        "#Q2\n",
        "#Ask the user to enter a sentence\n",
        "sentence = input(\"Enter a sentence: \")\n",
        "\n",
        "#Define the vowels\n",
        "vowels=\"aeiouAEIOU\"\n",
        "\n",
        "#Initialize a count variable to 0\n",
        "count=0\n",
        "\n",
        "#Loop through each character in the sentence\n",
        "for char in sentence:\n",
        "\n",
        "  #check if the character is a vowel\n",
        "  if char in vowels:\n",
        "\n",
        "    #Increment the count by 1\n",
        "    count+=1\n",
        "\n",
        "    #print the number of the vowels in the sentence\n",
        "    print(\"The number of vowels in the sentence is\", count)\n"
      ],
      "metadata": {
        "colab": {
          "base_uri": "https://localhost:8080/"
        },
        "id": "YfKu2lsNF0Sb",
        "outputId": "b48eebd7-a77c-45ac-e6cf-a8ec8b277776"
      },
      "execution_count": 3,
      "outputs": [
        {
          "output_type": "stream",
          "name": "stdout",
          "text": [
            "Enter a sentence: i am rahul\n",
            "The number of vowels in the sentence is 1\n",
            "The number of vowels in the sentence is 2\n",
            "The number of vowels in the sentence is 3\n",
            "The number of vowels in the sentence is 4\n"
          ]
        }
      ]
    },
    {
      "cell_type": "code",
      "source": [
        "#Q3\n",
        "\n",
        "#Ask the user to enter a string\n",
        "string = input(\"Enter a string: \")\n",
        "\n",
        "#reverse the string using slincing with a negative step\n",
        "reversed_string = string[::-1]\n",
        "\n",
        "\n",
        "#print the reversed string\n",
        "print(\"The reversed string is\", reversed_string)"
      ],
      "metadata": {
        "colab": {
          "base_uri": "https://localhost:8080/"
        },
        "id": "hP6LCbHnJH9q",
        "outputId": "507c8be7-ac6a-4059-d3b4-b90e80592eb1"
      },
      "execution_count": 4,
      "outputs": [
        {
          "output_type": "stream",
          "name": "stdout",
          "text": [
            "Enter a string: rahul\n",
            "The reversed string is luhar\n"
          ]
        }
      ]
    },
    {
      "cell_type": "code",
      "source": [
        "#Q4\n",
        "#Ask the user to enter a string\n",
        "string = input(\"Enter a string: \")\n",
        "\n",
        "#convert the string to lowercase and remove any spaces\n",
        "string = string.lower().replace(\" \",\"\")\n",
        "\n",
        "#check if the string is equal to its reverse using slicing\n",
        "if string == string [::-1]:\n",
        "        print(\"The string is a palindrome.\")\n",
        "else:\n",
        "      print(\"The string is not a palindrome.\")\n"
      ],
      "metadata": {
        "colab": {
          "base_uri": "https://localhost:8080/"
        },
        "id": "OBEj1a9HKz3T",
        "outputId": "08523bff-df1e-43d6-9ded-eb8eaeb89e37"
      },
      "execution_count": 17,
      "outputs": [
        {
          "output_type": "stream",
          "name": "stdout",
          "text": [
            "Enter a string: pw skills\n",
            "The string is not a palindrome.\n"
          ]
        }
      ]
    },
    {
      "cell_type": "code",
      "source": [
        "#Q5\n",
        "\n",
        "# Ask the user to enter a string\n",
        "string = input(\"Enter a string: \")\n",
        "\n",
        "# use the replace method to remove all the spaces\n",
        "no_spaces = string.replace(\" \", \"\")\n",
        "\n",
        "# print the modified string\n",
        "\n",
        "print(\"The string without spaces is\", no_spaces)\n"
      ],
      "metadata": {
        "colab": {
          "base_uri": "https://localhost:8080/"
        },
        "id": "IONwn_MHM9NF",
        "outputId": "70ebc52c-fe6d-4a87-c7f1-8dd1aadd9fff"
      },
      "execution_count": 19,
      "outputs": [
        {
          "output_type": "stream",
          "name": "stdout",
          "text": [
            "Enter a string: he  loo\n",
            "The string without spaces is heloo\n"
          ]
        }
      ]
    },
    {
      "cell_type": "code",
      "source": [],
      "metadata": {
        "id": "8wGVl5v8QP93"
      },
      "execution_count": null,
      "outputs": []
    }
  ]
}